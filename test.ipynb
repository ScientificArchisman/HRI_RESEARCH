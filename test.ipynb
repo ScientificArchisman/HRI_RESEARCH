{
 "cells": [
  {
   "cell_type": "code",
   "execution_count": 54,
   "metadata": {},
   "outputs": [],
   "source": [
    "import sympy as sp \n",
    "import numpy as np\n",
    "from sympy.physics.quantum import hbar as h"
   ]
  },
  {
   "cell_type": "code",
   "execution_count": 55,
   "metadata": {},
   "outputs": [],
   "source": [
    "A, B, C, D, E, F, alpha = sp.symbols('A B C D E F alpha', real=True)\n",
    "x = sp.symbols('x', real=True)\n",
    "V0, m, a, b = sp.symbols('V0 m a b', real=True, positive=True)\n",
    "E0 = sp.symbols('E0', real=True)\n",
    "\n",
    "alpha = 2*C\n",
    "# Define the k values\n",
    "kappa, k1 = sp.symbols('kappa k1', real=True, positive=True)"
   ]
  },
  {
   "cell_type": "code",
   "execution_count": 56,
   "metadata": {},
   "outputs": [],
   "source": [
    "eq1 = sp.Eq(A * sp.exp(-kappa * a) + B * sp.exp(kappa * a), alpha * sp.cos(k1 * a))\n",
    "eq2 = sp.Eq(B * sp.exp(kappa * a) + A * sp.exp(-kappa * a), alpha * sp.cos(k1 * a))\n",
    "eq3 = sp.Eq(A * kappa * sp.exp(-kappa * a) - B * kappa * sp.exp(kappa * a), alpha * k1 * sp.sin(k1 * a))\n",
    "eq4 = sp.Eq(B * kappa * sp.exp(kappa * a) - A * kappa * sp.exp(-kappa * a), -alpha * k1 * sp.sin(k1 * a))"
   ]
  },
  {
   "cell_type": "code",
   "execution_count": 57,
   "metadata": {},
   "outputs": [],
   "source": [
    "solve_for = [A, B, C]\n",
    "to_solve = [eq1, eq2, eq3, eq4]\n",
    "solutes = sp.solve(to_solve, solve_for)"
   ]
  },
  {
   "cell_type": "code",
   "execution_count": 58,
   "metadata": {},
   "outputs": [],
   "source": [
    "B = solutes[B]\n",
    "A = solutes[A]"
   ]
  },
  {
   "cell_type": "code",
   "execution_count": 59,
   "metadata": {},
   "outputs": [
    {
     "data": {
      "text/latex": [
       "$\\displaystyle C \\left(- \\frac{k_{1} e^{- a \\kappa} \\sin{\\left(a k_{1} \\right)}}{\\kappa} + e^{- a \\kappa} \\cos{\\left(a k_{1} \\right)}\\right)$"
      ],
      "text/plain": [
       "C*(-k1*exp(-a*kappa)*sin(a*k1)/kappa + exp(-a*kappa)*cos(a*k1))"
      ]
     },
     "execution_count": 59,
     "metadata": {},
     "output_type": "execute_result"
    }
   ],
   "source": [
    "B"
   ]
  },
  {
   "cell_type": "code",
   "execution_count": 60,
   "metadata": {},
   "outputs": [],
   "source": [
    "psi1 = A * sp.exp(kappa * x) + B * sp.exp(-kappa * x)\n",
    "psi2 = 2 * C * sp.cos(k1 * x)\n",
    "psi3 = B * sp.exp(kappa * x) + A * sp.exp(-kappa * x)"
   ]
  },
  {
   "cell_type": "code",
   "execution_count": 61,
   "metadata": {},
   "outputs": [
    {
     "data": {
      "text/latex": [
       "$\\displaystyle \\int\\limits_{- a}^{a} 4 C^{2} \\cos^{2}{\\left(k_{1} x \\right)}\\, dx + \\int\\limits_{- b}^{- a} \\left(C \\left(- \\frac{k_{1} e^{- a \\kappa} \\sin{\\left(a k_{1} \\right)}}{\\kappa} + e^{- a \\kappa} \\cos{\\left(a k_{1} \\right)}\\right) e^{- \\kappa x} + C \\left(\\frac{k_{1} e^{a \\kappa} \\sin{\\left(a k_{1} \\right)}}{\\kappa} + e^{a \\kappa} \\cos{\\left(a k_{1} \\right)}\\right) e^{\\kappa x}\\right)^{2}\\, dx + \\int\\limits_{a}^{b} \\left(C \\left(- \\frac{k_{1} e^{- a \\kappa} \\sin{\\left(a k_{1} \\right)}}{\\kappa} + e^{- a \\kappa} \\cos{\\left(a k_{1} \\right)}\\right) e^{\\kappa x} + C \\left(\\frac{k_{1} e^{a \\kappa} \\sin{\\left(a k_{1} \\right)}}{\\kappa} + e^{a \\kappa} \\cos{\\left(a k_{1} \\right)}\\right) e^{- \\kappa x}\\right)^{2}\\, dx$"
      ],
      "text/plain": [
       "Integral(4*C**2*cos(k1*x)**2, (x, -a, a)) + Integral((C*(-k1*exp(-a*kappa)*sin(a*k1)/kappa + exp(-a*kappa)*cos(a*k1))*exp(-kappa*x) + C*(k1*exp(a*kappa)*sin(a*k1)/kappa + exp(a*kappa)*cos(a*k1))*exp(kappa*x))**2, (x, -b, -a)) + Integral((C*(-k1*exp(-a*kappa)*sin(a*k1)/kappa + exp(-a*kappa)*cos(a*k1))*exp(kappa*x) + C*(k1*exp(a*kappa)*sin(a*k1)/kappa + exp(a*kappa)*cos(a*k1))*exp(-kappa*x))**2, (x, a, b))"
      ]
     },
     "execution_count": 61,
     "metadata": {},
     "output_type": "execute_result"
    }
   ],
   "source": [
    "integral = sp.Integral(psi1*psi1, (x, -b, -a)) + sp.Integral(psi2*psi2, (x, -a, a)) + sp.Integral(psi3*psi3, (x, a, b))\n",
    "integral"
   ]
  },
  {
   "cell_type": "code",
   "execution_count": 62,
   "metadata": {},
   "outputs": [],
   "source": [
    "eq = sp.Eq(integral.doit().simplify(), 1)"
   ]
  },
  {
   "cell_type": "code",
   "execution_count": 63,
   "metadata": {},
   "outputs": [],
   "source": [
    "sols = sp.solve(eq, C)"
   ]
  },
  {
   "cell_type": "code",
   "execution_count": 65,
   "metadata": {},
   "outputs": [
    {
     "data": {
      "text/latex": [
       "$\\displaystyle \\sqrt{k_{1}} \\kappa^{\\frac{3}{2}} \\sqrt{\\frac{1}{4 b k_{1} \\kappa^{3} e^{4 b \\kappa} + 2 \\kappa^{3} e^{4 b \\kappa} \\sin{\\left(2 b k_{1} \\right)}}} e^{2 b \\kappa}$"
      ],
      "text/plain": [
       "sqrt(k1)*kappa**(3/2)*sqrt(1/(4*b*k1*kappa**3*exp(4*b*kappa) + 2*kappa**3*exp(4*b*kappa)*sin(2*b*k1)))*exp(2*b*kappa)"
      ]
     },
     "execution_count": 65,
     "metadata": {},
     "output_type": "execute_result"
    }
   ],
   "source": [
    "sols[1].subs({a:b})"
   ]
  },
  {
   "cell_type": "code",
   "execution_count": 66,
   "metadata": {},
   "outputs": [
    {
     "data": {
      "text/plain": [
       "2.7182820520115603"
      ]
     },
     "execution_count": 66,
     "metadata": {},
     "output_type": "execute_result"
    }
   ],
   "source": [
    "def f(n):\n",
    "    return (1 + 1/n) ** n\n",
    "\n",
    "f(1000000000)"
   ]
  },
  {
   "cell_type": "code",
   "execution_count": 76,
   "metadata": {},
   "outputs": [
    {
     "data": {
      "text/plain": [
       "2"
      ]
     },
     "execution_count": 76,
     "metadata": {},
     "output_type": "execute_result"
    }
   ],
   "source": [
    "A = np.matrix([[0, 1, -2], \n",
    "               [1, 1, -1], \n",
    "               [0, 1, -2]])\n",
    "\n",
    "np.linalg.matrix_rank(A)"
   ]
  },
  {
   "cell_type": "code",
   "execution_count": 72,
   "metadata": {},
   "outputs": [
    {
     "data": {
      "text/plain": [
       "((3, 3), (1, 3))"
      ]
     },
     "execution_count": 72,
     "metadata": {},
     "output_type": "execute_result"
    }
   ],
   "source": [
    "A.shape, B.shape"
   ]
  },
  {
   "cell_type": "code",
   "execution_count": null,
   "metadata": {},
   "outputs": [],
   "source": []
  }
 ],
 "metadata": {
  "kernelspec": {
   "display_name": "Python 3",
   "language": "python",
   "name": "python3"
  },
  "language_info": {
   "codemirror_mode": {
    "name": "ipython",
    "version": 3
   },
   "file_extension": ".py",
   "mimetype": "text/x-python",
   "name": "python",
   "nbconvert_exporter": "python",
   "pygments_lexer": "ipython3",
   "version": "3.11.5"
  },
  "orig_nbformat": 4
 },
 "nbformat": 4,
 "nbformat_minor": 2
}
